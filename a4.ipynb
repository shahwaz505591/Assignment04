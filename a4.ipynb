{
 "cells": [
  {
   "cell_type": "code",
   "execution_count": null,
   "id": "5901f027-c92d-4d34-85e8-f4c125689e12",
   "metadata": {},
   "outputs": [],
   "source": [
    "Q1: which keyword is used to create a function? create a function to return a list a list of odd number in the range of 1 to 25.\n",
    "Ans: def function_name() used to create a fuction.  programme for print odd number from 1 to 25 in list: def odd():\n",
    "              return list(range(1,25,2))"
   ]
  },
  {
   "cell_type": "markdown",
   "id": "ef3317b5-83e5-4c6e-94dc-3b421038b1d9",
   "metadata": {},
   "source": [
    "Q2:why *arg and **kwargs is used in some function ? Create a function each for *arg and **kwargs to demonstrate thier use.\n",
    "Ans:*arg is used for user input that user want the data ,* is return a tuple values.\n",
    "#program for *ard are:\n",
    "def func(*arg):\n",
    " return arg\n",
    " fun(1,2)  .... output is (1,2).\n",
    "\n",
    "**kwargs: is used for data when user want data in the form of dictionary.\n",
    "#programe for **kwargs:\n",
    "def func2():\n",
    "return kwargs \n",
    " fun2(a=[1,2,3],b=\"shahwaz\"))."
   ]
  },
  {
   "cell_type": "markdown",
   "id": "ae31de38-b6cf-4ef4-9da5-4a0268c3f0ce",
   "metadata": {},
   "source": [
    "Q3:What is an iteration? name the method used to initialise the iterator object and the method useed for iteration.use these methods to print the firt five elements of the given list[2,4,6,8,10,12,14,16,18,20]. \n",
    "Ans: In Python, an iterator is an object that can be iterated (looped) upon. Lists, tuples, dictionaries, and sets are all iterable objects.\n",
    "\n",
    "To initialize an iterator object, we use the iter() method. This method takes an iterable object as an argument and returns an iterator object.\n",
    "\n",
    "To perform iteration, we use the next() method. The next() method returns the next value from the iterator.\n",
    "example:# Initialize the iterator\n",
    "list_iter = iter([2,4,6,8,10,12,14,16,18,20])\n",
    "\n",
    "# Perform iteration\n",
    "for i in range(5):\n",
    "  print(next(list_iter))\n"
   ]
  },
  {
   "cell_type": "markdown",
   "id": "ec24be1d-78de-4f42-ba76-a23d77a87147",
   "metadata": {},
   "source": [
    "Q4:What is a generator function in python? why yield keyword is used?give an example of a generator function.\n",
    "Ans:  A generator function is a special type of function in Python that can be used to generate a sequence of values, one at a time, instead of generating the entire sequence at once and storing it in memory. The yield keyword is used in a generator function to return a value and pause the function's execution, saving its state so that it can be resumed later, right where it left off, the next time it is called.\n",
    "\n",
    "Here's an example of a generator function that generates the sequence of Fibonacci numbers:def fibonacci(n):\n",
    "    a, b = 0, 1\n",
    "    for i in range(n):\n",
    "        yield a\n",
    "        a, b = b, a + b\n",
    ">>> for number in fibonacci(10):\n",
    "...     print(number)\n",
    "... \n",
    "0\n",
    "1\n",
    "1\n",
    "2\n",
    "3\n",
    "5\n",
    "8\n",
    "13......"
   ]
  },
  {
   "cell_type": "markdown",
   "id": "8f3b3aeb-4a18-4521-af57-715d30c32c84",
   "metadata": {},
   "source": [
    "Q5:Create a generator function for prime number less than 1000.use the next() method to print the first 20 prime numbers.\n",
    "Ans:def prime_numbers(limit):\n",
    "    primes = []\n",
    "    for number in range(2, limit):\n",
    "        for prime in primes:\n",
    "            if number % prime == 0:\n",
    "                break\n",
    "        else:\n",
    "            primes.append(number)\n",
    "            yield number\n",
    "...... use the next() method to print the first 20 prime numbers\n",
    ">>> primes = prime_numbers(1000)\n",
    ">>> for i in range(20):\n",
    "...     print(next(primes))\n",
    "... \n",
    "2\n",
    "3\n",
    "5\n",
    "7\n",
    "11\n",
    "13\n",
    "17\n",
    "19\n",
    "23\n",
    "29\n",
    "31\n",
    "37\n",
    "41\n",
    "43\n",
    "47\n",
    "53\n",
    "59\n",
    "61\n",
    "67\n",
    "\n",
    "\n"
   ]
  },
  {
   "cell_type": "markdown",
   "id": "d45bead8-f914-41a3-8c6a-cd5fbfcce17c",
   "metadata": {},
   "source": [
    "Q6:Write a python program to print the firt 10 fibonacci numbers using whle loop.\n",
    "Ans:def fibonacci(n):\n",
    "    a, b = 0, 1\n",
    "    while n > 0:\n",
    "        yield a\n",
    "        a, b = b, a + b\n",
    "        n -= 1\n",
    "\n",
    "fib = fibonacci(10)\n",
    "for i in fib:\n",
    "    print(i)"
   ]
  },
  {
   "cell_type": "markdown",
   "id": "5ff9cac2-197e-486f-94be-80f11591e6a1",
   "metadata": {},
   "source": [
    "Q7:Write a list comprehension to iterate through the given string:'pwskills'.\n",
    "Ans:string = 'pwskills'\n",
    "result = [char for char in string]\n",
    "print(result)\n"
   ]
  },
  {
   "cell_type": "markdown",
   "id": "26e88cce-eb49-4406-8a2e-a51226bab08a",
   "metadata": {},
   "source": [
    "Q8:Write a python program to check whether a given number is palindrome or not using while loop.\n",
    "Ans:def is_palindrome(n):\n",
    "    original = n\n",
    "    reverse = 0\n",
    "    while n > 0:\n",
    "        reverse = (reverse * 10) + (n % 10)\n",
    "        n //= 10\n",
    "    return original == reverse\n",
    "\n",
    "number = int(input(\"Enter a number: \"))\n",
    "if is_palindrome(number):\n",
    "    print(\"The number is a palindrome.\")\n",
    "else:\n",
    "    print(\"The number is not a palindrome.\")"
   ]
  },
  {
   "cell_type": "markdown",
   "id": "3825092c-b5fc-436e-b191-942543e1226c",
   "metadata": {},
   "source": [
    "Q9:Write a code to print odd numbers from 1 to 100 using list comprehension.\n",
    "Ans:"
   ]
  },
  {
   "cell_type": "code",
   "execution_count": null,
   "id": "4e502604-727c-4f7b-b097-70f71ec476bd",
   "metadata": {},
   "outputs": [],
   "source": []
  }
 ],
 "metadata": {
  "kernelspec": {
   "display_name": "Python 3 (ipykernel)",
   "language": "python",
   "name": "python3"
  },
  "language_info": {
   "codemirror_mode": {
    "name": "ipython",
    "version": 3
   },
   "file_extension": ".py",
   "mimetype": "text/x-python",
   "name": "python",
   "nbconvert_exporter": "python",
   "pygments_lexer": "ipython3",
   "version": "3.10.8"
  }
 },
 "nbformat": 4,
 "nbformat_minor": 5
}
